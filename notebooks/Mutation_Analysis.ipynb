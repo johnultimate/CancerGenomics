{
 "cells": [
  {
   "cell_type": "code",
   "execution_count": null,
   "id": "f2e6b1e2-f19f-4635-b20e-17db026e77ae",
   "metadata": {},
   "outputs": [],
   "source": [
    "# Cancer Genomics Mutation Analysis\n",
    "# This notebook will analyze mutation data from ICGC/PCAWG\n",
    "\n",
    "import pandas as pd\n",
    "import numpy as np\n",
    "import seaborn as sns\n",
    "import matplotlib.pyplot as plt\n"
   ]
  }
 ],
 "metadata": {
  "kernelspec": {
   "display_name": "cancer-research",
   "language": "python",
   "name": "cancer-research"
  },
  "language_info": {
   "codemirror_mode": {
    "name": "ipython",
    "version": 3
   },
   "file_extension": ".py",
   "mimetype": "text/x-python",
   "name": "python",
   "nbconvert_exporter": "python",
   "pygments_lexer": "ipython3",
   "version": "3.9.21"
  }
 },
 "nbformat": 4,
 "nbformat_minor": 5
}
